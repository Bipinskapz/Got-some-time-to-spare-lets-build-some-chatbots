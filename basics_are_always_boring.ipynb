{
 "cells": [
  {
   "cell_type": "markdown",
   "metadata": {},
   "source": [
    "## Spacy\n",
    " Spacy has many built in machine learning models which will be very useful for natural language processing which is required for building chatbots"
   ]
  },
  {
   "cell_type": "code",
   "execution_count": 5,
   "metadata": {},
   "outputs": [],
   "source": [
    "import spacy               "
   ]
  },
  {
   "cell_type": "code",
   "execution_count": 9,
   "metadata": {},
   "outputs": [],
   "source": [
    "vocab = spacy.load('en')                             #en is a spacy's built in machine learning model\n",
    "string = u\"Mark Zuckerberg is the CEO of facebook\"   #string to be analyzed\n",
    "doc = vocab(string)                                  "
   ]
  },
  {
   "cell_type": "markdown",
   "metadata": {},
   "source": [
    "## Parts of Speech Tagging"
   ]
  },
  {
   "cell_type": "code",
   "execution_count": 14,
   "metadata": {
    "scrolled": true
   },
   "outputs": [
    {
     "name": "stdout",
     "output_type": "stream",
     "text": [
      "Mark -------> PROPN\n",
      "Zuckerberg -------> PROPN\n",
      "is -------> VERB\n",
      "the -------> DET\n",
      "CEO -------> NOUN\n",
      "of -------> ADP\n",
      "facebook -------> NOUN\n"
     ]
    }
   ],
   "source": [
    "for word in doc:\n",
    "    print(word.text,'------->',word.pos_)   #prints each word in the string as well as its parts of speech(noun,verb...)"
   ]
  },
  {
   "cell_type": "markdown",
   "metadata": {},
   "source": [
    "## Named Entity Recognition"
   ]
  },
  {
   "cell_type": "code",
   "execution_count": 23,
   "metadata": {},
   "outputs": [
    {
     "name": "stdout",
     "output_type": "stream",
     "text": [
      "Mark Zuckerberg ----> PERSON\n"
     ]
    }
   ],
   "source": [
    "for word in doc.ents:\n",
    "    print(word.text,'---->',word.label_)       #prints the word and named entity"
   ]
  },
  {
   "cell_type": "code",
   "execution_count": 25,
   "metadata": {},
   "outputs": [
    {
     "name": "stdout",
     "output_type": "stream",
     "text": [
      "Bill Gates ----> PERSON\n",
      "Microsoft ----> ORG\n",
      "USA ----> GPE\n"
     ]
    }
   ],
   "source": [
    "#Lets make it clear....\n",
    "\n",
    "my_string = u\"Bill Gates is the founder of Microsoft which has its main office located at USA\"\n",
    "\n",
    "doc1 = vocab(my_string)\n",
    "for word in doc1.ents:\n",
    "    print(word.text,'---->',word.label_)\n",
    "    #Bill Gates - Person\n",
    "    #Microsoft - Organisation\n",
    "    #USA - GeoPolitical Entity"
   ]
  },
  {
   "cell_type": "code",
   "execution_count": 31,
   "metadata": {},
   "outputs": [
    {
     "name": "stdout",
     "output_type": "stream",
     "text": [
      "Bill Gates ----> PERSON\n",
      "9:00 in the morning ----> TIME\n"
     ]
    }
   ],
   "source": [
    "string1 = u\"Bill Gates will meet me at 9:00 in the morning\"\n",
    "doc2 = vocab(string1)\n",
    "for word in doc2.ents:\n",
    "    print(word.text,'---->',word.label_)"
   ]
  },
  {
   "cell_type": "code",
   "execution_count": 45,
   "metadata": {},
   "outputs": [
    {
     "name": "stdout",
     "output_type": "stream",
     "text": [
      "word ---> facebook   Ancestors ---> [of, CEO, is]\n"
     ]
    }
   ],
   "source": [
    "a = doc[6]\n",
    "print(\"word --->\",a,\"  Ancestors --->\",list(a.ancestors))#list the ancestors or related words of facebook in the sentence"
   ]
  },
  {
   "cell_type": "code",
   "execution_count": 49,
   "metadata": {},
   "outputs": [
    {
     "name": "stdout",
     "output_type": "stream",
     "text": [
      "Kochi\n",
      "[from, flight, Book]\n"
     ]
    }
   ],
   "source": [
    "string2 = u\"Book me a flight from Kochi to Bangalore\"\n",
    "doc3 = vocab(string2)\n",
    "kch = doc3[5]\n",
    "print(kch)\n",
    "print(list(kch.ancestors))"
   ]
  },
  {
   "cell_type": "markdown",
   "metadata": {},
   "source": [
    "### Thus our chatbot understands that we need to book a flight ticket from kochi"
   ]
  },
  {
   "cell_type": "code",
   "execution_count": 50,
   "metadata": {},
   "outputs": [
    {
     "name": "stdout",
     "output_type": "stream",
     "text": [
      "Bangalore\n",
      "[to, flight, Book]\n"
     ]
    }
   ],
   "source": [
    "#now we need our chatbot needs to understand the the destination of flight ticket\n",
    "\n",
    "blr = doc3[7]\n",
    "print(blr)\n",
    "print(list(blr.ancestors))"
   ]
  },
  {
   "cell_type": "markdown",
   "metadata": {},
   "source": [
    "### Hence our chatbot gets the destination location to book flight ticket"
   ]
  },
  {
   "cell_type": "code",
   "execution_count": null,
   "metadata": {},
   "outputs": [],
   "source": []
  }
 ],
 "metadata": {
  "kernelspec": {
   "display_name": "Python 3",
   "language": "python",
   "name": "python3"
  },
  "language_info": {
   "codemirror_mode": {
    "name": "ipython",
    "version": 3
   },
   "file_extension": ".py",
   "mimetype": "text/x-python",
   "name": "python",
   "nbconvert_exporter": "python",
   "pygments_lexer": "ipython3",
   "version": "3.7.1"
  }
 },
 "nbformat": 4,
 "nbformat_minor": 2
}
